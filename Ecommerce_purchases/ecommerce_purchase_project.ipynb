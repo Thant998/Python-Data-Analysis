{
 "cells": [
  {
   "cell_type": "code",
   "execution_count": 10,
   "metadata": {},
   "outputs": [
    {
     "name": "stdout",
     "output_type": "stream",
     "text": [
      "                                                   Address    Lot AM or PM                                                                                                                       Browser Info                          Company       Credit Card CC Exp Date  CC Security Code                  CC Provider                           Email                                     Job       IP Address Language  Purchase Price\n",
      "0   16629 Pace Camp Apt. 448\\nAlexisborough, NE 77130-7478  46 in       PM                                                                 Opera/9.56.(X11; Linux x86_64; sl-SI) Presto/2.9.183 Version/12.00                  Martinez-Herman  6011929061123406       02/20               900                 JCB 16 digit               pdunlap@yahoo.com  Scientist, product/process development  149.146.147.205       el           98.14\n",
      "1  9374 Jasmine Spurs Suite 508\\nSouth John, TN 84355-4179  28 rn       PM                                                           Opera/8.93.(Windows 98; Win 9x 4.90; en-US) Presto/2.9.176 Version/11.00  Fletcher, Richards and Whitaker  3337758169645356       11/18               561                   Mastercard              anthony41@reed.com                       Drilling engineer     15.160.41.51       fr           70.73\n",
      "2                         Unit 0065 Box 5052\\nDPO AP 27450  94 vE       PM                                                                    Mozilla/5.0 (compatible; MSIE 9.0; Windows NT 6.2; Trident/5.1)       Simpson, Williams and Pham      675957666125       08/19               699                 JCB 16 digit  amymiller@morales-harrison.com                Customer service manager   132.207.160.22       de            0.95\n",
      "3                    7780 Julia Fords\\nNew Stacy, WA 45798  36 vm       PM  Mozilla/5.0 (Macintosh; Intel Mac OS X 10_8_0 rv:3.0; en-US) AppleWebKit/531.27.1 (KHTML, like Gecko) Version/5.1 Safari/531.27.1  Williams, Marshall and Buchanan  6011578504430710       02/24               384                     Discover     brent16@olson-robinson.info                       Drilling engineer     30.250.74.19       es           78.04\n",
      "4       23012 Munoz Drive Suite 337\\nNew Cynthia, TX 57826  20 IE       AM                                                                 Opera/9.58.(X11; Linux x86_64; it-IT) Presto/2.9.182 Version/11.00        Brown, Watson and Andrews  6011456623207998       10/25               678  Diners Club / Carte Blanche     christopherwright@gmail.com                             Fine artist     24.140.33.94       es           77.82\n",
      "5  7502 Powell Mission Apt. 768\\nTravisland, VA 30493-5334  21 XT       PM                 Mozilla/5.0 (Macintosh; U; PPC Mac OS X 10_8_5) AppleWebKit/5312 (KHTML, like Gecko) Chrome/14.0.884.0 Safari/5312                   Silva-Anderson    30246185196287       07/25              7169                     Discover               ynguyen@gmail.com                       Fish farm manager    55.96.152.147       ru           25.15\n",
      "6           93971 Conway Causeway\\nAndersonburgh, AZ 75107  96 Xt       AM                                                                    Mozilla/5.0 (compatible; MSIE 7.0; Windows NT 5.0; Trident/3.0)                  Gibson and Sons  6011398782655569       07/24               714                VISA 16 digit              olivia04@yahoo.com                                  Dancer   127.252.144.18       de           88.56\n",
      "7   260 Rachel Plains Suite 366\\nCastroberg, WV 24804-9384  96 pG       PM                                   Mozilla/5.0 (X11; Linux i686) AppleWebKit/5350 (KHTML, like Gecko) Chrome/15.0.841.0 Safari/5350                 Marshall-Collins      561252141909       06/25               256                VISA 13 digit            phillip48@parks.info                         Event organiser   224.247.97.150       pt           44.25\n",
      "8                  2129 Dylan Burg\\nNew Michelle, ME 28650  45 JN       PM               Mozilla/5.0 (Macintosh; U; Intel Mac OS X 10_7_9) AppleWebKit/5330 (KHTML, like Gecko) Chrome/14.0.898.0 Safari/5330                Galloway and Sons   180041795790001       04/24               899                 JCB 16 digit            kdavis@rasmussen.com                       Financial manager  146.234.201.229       ru           59.54\n",
      "9          3795 Dawson Extensions\\nLake Tinafort, ID 88739  15 Ug       AM                                                   Mozilla/5.0 (X11; Linux i686; rv:1.9.7.20) Gecko/2011-11-30 06:02:34 Firefox/9.0     Rivera, Buchanan and Ramirez     4396283918371       01/17               931             American Express        qcoleman@hunt-huerta.com                      Forensic scientist    236.198.199.8       zh           95.63\n"
     ]
    }
   ],
   "source": [
    "import pandas as pd\n",
    "import numpy as np\n",
    "\n",
    "df = pd.read_csv('Ecommerce_Purchases.csv')\n",
    "df.head(10)"
   ]
  },
  {
   "cell_type": "code",
   "execution_count": 12,
   "metadata": {},
   "outputs": [
    {
     "name": "stdout",
     "output_type": "stream",
     "text": [
      "                                                     Address    Lot AM or PM                                                                                                                          Browser Info                     Company       Credit Card CC Exp Date  CC Security Code       CC Provider                        Email                           Job       IP Address Language  Purchase Price\n",
      "9990       75731 Molly Springs\\nWest Danielle, VT 96934-5102  93 ty       PM                                  Mozilla/5.0 (Macintosh; Intel Mac OS X 10_7_4; rv:1.9.5.20) Gecko/2012-10-23 09:20:07 Firefox/3.6.11  Pace, Vazquez and Richards   869968197049750       04/24               877      JCB 15 digit  andersonmichael@sherman.biz           Early years teacher     54.170.3.185       ru           18.35\n",
      "9991                   PSC 8165, Box 8498\\nAPO AP 60327-0346  50 dA       AM                                                                       Mozilla/5.0 (compatible; MSIE 8.0; Windows NT 5.2; Trident/3.1)                  Snyder Inc  4221582137197481       02/24               969           Voyager           kking@wise-liu.com         IT sales professional    254.25.31.156       el           25.93\n",
      "9992       885 Allen Mountains Apt. 230\\nWallhaven, LA 16995  40 vH       PM                       Mozilla/5.0 (Macintosh; PPC Mac OS X 10_6_5) AppleWebKit/5320 (KHTML, like Gecko) Chrome/14.0.897.0 Safari/5320                   Wells Ltd  4664825258997302       10/20               431          Discover            bberry@wright.net                  Set designer    174.173.51.32       de           67.96\n",
      "9993  7555 Larson Locks Suite 229\\nEllisburgh, MA 34961-2555  72 jg       PM                  Mozilla/5.0 (Macintosh; U; Intel Mac OS X 10_8_4) AppleWebKit/5322 (KHTML, like Gecko) Chrome/15.0.896.0 Safari/5322              Colon and Sons    30025560104631       10/25               629           Maestro    chelseawilliams@lopez.biz  Designer, exhibition/display    177.46.82.128       el           65.61\n",
      "9994            6276 Rojas Hollow\\nLake Louis, WY 56410-7837  93 Ex       PM                                                                    Opera/9.68.(X11; Linux x86_64; sl-SI) Presto/2.9.189 Version/10.00                Ritter-Smith  3112186784121077       01/25              1823           Maestro           iroberts@gmail.com     Education officer, museum    242.44.112.18       zh           31.85\n",
      "9995           966 Castaneda Locks\\nWest Juliafurt, CO 96415  92 XI       PM                                       Mozilla/5.0 (Windows NT 5.1) AppleWebKit/5352 (KHTML, like Gecko) Chrome/14.0.877.0 Safari/5352               Randall-Sloan   342945015358701       03/22               838      JCB 15 digit       iscott@wade-garner.com                    Printmaker    29.73.197.114       it           82.21\n",
      "9996   832 Curtis Dam Suite 785\\nNorth Edwardburgh, TX 55158  41 JY       AM                                                                       Mozilla/5.0 (compatible; MSIE 9.0; Windows NT 5.1; Trident/4.1)    Hale, Collins and Wilson   210033169205009       07/25               207      JCB 16 digit           mary85@hotmail.com               Energy engineer   121.133.168.51       pt           25.63\n",
      "9997                   Unit 4434 Box 6343\\nDPO AE 28026-0283  74 Zh       AM  Mozilla/5.0 (Macintosh; U; Intel Mac OS X 10_7_8 rv:6.0; sl-SI) AppleWebKit/534.1.1 (KHTML, like Gecko) Version/4.0.3 Safari/534.1.1                Anderson Ltd  6011539787356311       05/21                 1     VISA 16 digit            tyler16@gmail.com            Veterinary surgeon    156.210.0.254       el           83.98\n",
      "9998                    0096 English Rest\\nRoystad, IA 12457  74 cL       PM                                  Mozilla/5.0 (Macintosh; Intel Mac OS X 10_8_8; rv:1.9.6.20) Gecko/2014-05-17 01:11:58 Firefox/3.6.13                    Cook Inc   180003348082930       11/17               987  American Express      elizabethmoore@reid.net      Local government officer     55.78.26.143       es           38.84\n",
      "9999          40674 Barrett Stravenue\\nGrimesville, WI 79682  64 Hr       AM                                                   Mozilla/5.0 (X11; Linux i686; rv:1.9.5.20) Gecko/2013-11-22 09:05:00 Firefox/3.6.11                  Greene Inc  4139972901927273       02/19               302      JCB 15 digit        rachelford@vaughn.com        Embryologist, clinical  176.119.198.199       el           67.59\n"
     ]
    }
   ],
   "source": [
    "# Check Last 10 Rows of The Dataset\n",
    "df.tail(10)"
   ]
  },
  {
   "cell_type": "code",
   "execution_count": 13,
   "metadata": {},
   "outputs": [
    {
     "name": "stdout",
     "output_type": "stream",
     "text": [
      "Address              object\n",
      "Lot                  object\n",
      "AM or PM             object\n",
      "Browser Info         object\n",
      "Company              object\n",
      "Credit Card           int64\n",
      "CC Exp Date          object\n",
      "CC Security Code      int64\n",
      "CC Provider          object\n",
      "Email                object\n",
      "Job                  object\n",
      "IP Address           object\n",
      "Language             object\n",
      "Purchase Price      float64\n",
      "dtype: object\n"
     ]
    }
   ],
   "source": [
    "# Check Datatype of Each Column\n",
    "df.dtypes"
   ]
  },
  {
   "cell_type": "code",
   "execution_count": 14,
   "metadata": {},
   "outputs": [
    {
     "name": "stdout",
     "output_type": "stream",
     "text": [
      "Address             0\n",
      "Lot                 0\n",
      "AM or PM            0\n",
      "Browser Info        0\n",
      "Company             0\n",
      "Credit Card         0\n",
      "CC Exp Date         0\n",
      "CC Security Code    0\n",
      "CC Provider         0\n",
      "Email               0\n",
      "Job                 0\n",
      "IP Address          0\n",
      "Language            0\n",
      "Purchase Price      0\n",
      "dtype: int64\n"
     ]
    }
   ],
   "source": [
    "# Check null values in the dataset\n",
    "df.isnull().sum()"
   ]
  },
  {
   "cell_type": "code",
   "execution_count": 15,
   "metadata": {},
   "outputs": [
    {
     "name": "stdout",
     "output_type": "stream",
     "text": [
      "14\n",
      "10000\n"
     ]
    }
   ],
   "source": [
    "# How many rows and columns are there in our Dataset? \n",
    "len(df.columns)\n",
    "len(df)"
   ]
  },
  {
   "cell_type": "code",
   "execution_count": 16,
   "metadata": {},
   "outputs": [
    {
     "name": "stdout",
     "output_type": "stream",
     "text": [
      "99.99\n",
      "0.0\n"
     ]
    }
   ],
   "source": [
    "# Highest and Lowest Purchase Prices.\n",
    "print(df[\"Purchase Price\"].max())\n",
    "print(df[\"Purchase Price\"].min())"
   ]
  },
  {
   "cell_type": "code",
   "execution_count": 17,
   "metadata": {},
   "outputs": [
    {
     "name": "stdout",
     "output_type": "stream",
     "text": [
      "50.347302\n"
     ]
    }
   ],
   "source": [
    "# Average Purchase Price\n",
    "df[\"Purchase Price\"].mean()"
   ]
  },
  {
   "cell_type": "code",
   "execution_count": 18,
   "metadata": {},
   "outputs": [
    {
     "name": "stdout",
     "output_type": "stream",
     "text": [
      "1097\n"
     ]
    }
   ],
   "source": [
    "# How many people have French 'fr' as their Language?\n",
    "print(len(df[df[\"Language\"]==\"fr\"]))"
   ]
  },
  {
   "cell_type": "code",
   "execution_count": 19,
   "metadata": {},
   "outputs": [
    {
     "name": "stdout",
     "output_type": "stream",
     "text": [
      "984\n"
     ]
    }
   ],
   "source": [
    "# Job Title Contains Engineer\n",
    "print(len(df[df[\"Job\"].str.contains(\"engineer\",case=False)]))"
   ]
  },
  {
   "cell_type": "code",
   "execution_count": 20,
   "metadata": {},
   "outputs": [
    {
     "name": "stdout",
     "output_type": "stream",
     "text": [
      "2    amymiller@morales-harrison.com\n",
      "Name: Email, dtype: object\n"
     ]
    }
   ],
   "source": [
    "# Find The Email of the person with the following IP Address: 132.207.160.22\n",
    "print(df[df[\"IP Address\"]==\"132.207.160.22\"][\"Email\"])\n"
   ]
  },
  {
   "cell_type": "code",
   "execution_count": 21,
   "metadata": {},
   "outputs": [
    {
     "name": "stdout",
     "output_type": "stream",
     "text": [
      "405\n"
     ]
    }
   ],
   "source": [
    "# How many People have Mastercard as their Credit Card Provider and made a purchase above 50?\n",
    "print(len(df[(df[\"CC Provider\"]==\"Mastercard\") & (df[\"Purchase Price\"]>50)]))"
   ]
  },
  {
   "cell_type": "code",
   "execution_count": 22,
   "metadata": {},
   "outputs": [
    {
     "name": "stdout",
     "output_type": "stream",
     "text": [
      "9992    bberry@wright.net\n",
      "Name: Email, dtype: object\n"
     ]
    }
   ],
   "source": [
    "# Find the email of the person with the following Credit Card Number: 4664825258997302\n",
    "print(df[df[\"Credit Card\"]==4664825258997302][\"Email\"])"
   ]
  },
  {
   "cell_type": "code",
   "execution_count": 23,
   "metadata": {},
   "outputs": [
    {
     "name": "stdout",
     "output_type": "stream",
     "text": [
      "PM    5068\n",
      "AM    4932\n",
      "Name: AM or PM, dtype: int64\n"
     ]
    }
   ],
   "source": [
    "# How many people purchase during the AM and how many people purchase during PM?\n",
    "print(df[\"AM or PM\"].value_counts())"
   ]
  },
  {
   "cell_type": "code",
   "execution_count": 24,
   "metadata": {},
   "outputs": [
    {
     "name": "stdout",
     "output_type": "stream",
     "text": [
      "988\n"
     ]
    }
   ],
   "source": [
    "# How many people have a credit card that expires in 2020?\n",
    "def fun():\n",
    "    count = 0\n",
    "    for data in df[\"CC Exp Date\"]:\n",
    "        if data.split(\"/\")[1]==\"20\":\n",
    "            count = count + 1\n",
    "    print(count)\n",
    "fun()"
   ]
  },
  {
   "cell_type": "code",
   "execution_count": 26,
   "metadata": {},
   "outputs": [
    {
     "name": "stdout",
     "output_type": "stream",
     "text": [
      "hotmail.com     1638\n",
      "yahoo.com       1616\n",
      "gmail.com       1605\n",
      "smith.com         42\n",
      "williams.com      37\n",
      "Name: temp, dtype: int64\n"
     ]
    }
   ],
   "source": [
    "# What are the top 5 most popular email providers (e.g. gmail.com, yahoo.com, etc...) \n",
    "list=[]\n",
    "for email in df[\"Email\"]:\n",
    "    list.append(email.split(\"@\")[1])\n",
    "df[\"temp\"]=list\n",
    "print(df[\"temp\"].value_counts().head())"
   ]
  }
 ],
 "metadata": {
  "kernelspec": {
   "display_name": "Python 3",
   "language": "python",
   "name": "python3"
  },
  "language_info": {
   "codemirror_mode": {
    "name": "ipython",
    "version": 3
   },
   "file_extension": ".py",
   "mimetype": "text/x-python",
   "name": "python",
   "nbconvert_exporter": "python",
   "pygments_lexer": "ipython3",
   "version": "3.10.2"
  },
  "orig_nbformat": 4
 },
 "nbformat": 4,
 "nbformat_minor": 2
}
