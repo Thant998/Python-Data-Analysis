{
 "cells": [
  {
   "cell_type": "code",
   "execution_count": 21,
   "metadata": {},
   "outputs": [
    {
     "name": "stderr",
     "output_type": "stream",
     "text": [
      "C:\\Users\\USER\\AppData\\Roaming\\Python\\Python310\\site-packages\\IPython\\core\\interactiveshell.py:3505: DtypeWarning: Columns (3,4,5,6,12) have mixed types.Specify dtype option on import or set low_memory=False.\n",
      "  exec(code_obj, self.user_global_ns, self.user_ns)\n"
     ]
    },
    {
     "data": {
      "text/plain": [
       "'   Id        EmployeeName                                        JobTitle    BasePay OvertimePay   OtherPay Benefits   TotalPay  TotalPayBenefits  Year  Notes         Agency Status\\n0   1      NATHANIEL FORD  GENERAL MANAGER-METROPOLITAN TRANSIT AUTHORITY  167411.18         0.0  400184.25      NaN  567595.43         567595.43  2011    NaN  San Francisco    NaN\\n1   2        GARY JIMENEZ                 CAPTAIN III (POLICE DEPARTMENT)  155966.02   245131.88  137811.38      NaN  538909.28         538909.28  2011    NaN  San Francisco    NaN\\n2   3      ALBERT PARDINI                 CAPTAIN III (POLICE DEPARTMENT)  212739.13   106088.18    16452.6      NaN  335279.91         335279.91  2011    NaN  San Francisco    NaN\\n3   4   CHRISTOPHER CHONG            WIRE ROPE CABLE MAINTENANCE MECHANIC    77916.0    56120.71   198306.9      NaN  332343.61         332343.61  2011    NaN  San Francisco    NaN\\n4   5     PATRICK GARDNER    DEPUTY CHIEF OF DEPARTMENT,(FIRE DEPARTMENT)   134401.6      9737.0  182234.59      NaN  326373.19         326373.19  2011    NaN  San Francisco    NaN\\n5   6      DAVID SULLIVAN                       ASSISTANT DEPUTY CHIEF II   118602.0      8601.0  189082.74      NaN  316285.74         316285.74  2011    NaN  San Francisco    NaN\\n6   7           ALSON LEE              BATTALION CHIEF, (FIRE DEPARTMENT)   92492.01     89062.9  134426.14      NaN  315981.05         315981.05  2011    NaN  San Francisco    NaN\\n7   8       DAVID KUSHNER                  DEPUTY DIRECTOR OF INVESTMENTS  256576.96         0.0    51322.5      NaN  307899.46         307899.46  2011    NaN  San Francisco    NaN\\n8   9      MICHAEL MORRIS              BATTALION CHIEF, (FIRE DEPARTMENT)  176932.64    86362.68   40132.23      NaN  303427.55         303427.55  2011    NaN  San Francisco    NaN\\n9  10  JOANNE HAYES-WHITE          CHIEF OF DEPARTMENT, (FIRE DEPARTMENT)   285262.0         0.0   17115.73      NaN  302377.73         302377.73  2011    NaN  San Francisco    NaN'"
      ]
     },
     "execution_count": 21,
     "metadata": {},
     "output_type": "execute_result"
    }
   ],
   "source": [
    "import pandas as pd\n",
    "import numpy  as np\n",
    "\n",
    "data = pd.read_csv('Salaries.csv')\n",
    "data.head(10).to_string()"
   ]
  },
  {
   "cell_type": "code",
   "execution_count": 22,
   "metadata": {},
   "outputs": [
    {
     "data": {
      "text/plain": [
       "'            Id      EmployeeName                      JobTitle       BasePay   OvertimePay      OtherPay      Benefits  TotalPay  TotalPayBenefits  Year  Notes         Agency Status\\n148644  148645      Randy D Winn  Stationary Eng, Sewage Plant          0.00          0.00          0.00          0.00      0.00              0.00  2014    NaN  San Francisco     PT\\n148645  148646  Carolyn A Wilson     Human Services Technician          0.00          0.00          0.00          0.00      0.00              0.00  2014    NaN  San Francisco     PT\\n148646  148647      Not provided                  Not provided  Not Provided  Not Provided  Not Provided  Not Provided      0.00              0.00  2014    NaN  San Francisco    NaN\\n148647  148648    Joann Anderson   Communications Dispatcher 2          0.00          0.00          0.00          0.00      0.00              0.00  2014    NaN  San Francisco     PT\\n148648  148649       Leon Walker                     Custodian          0.00          0.00          0.00          0.00      0.00              0.00  2014    NaN  San Francisco     PT\\n148649  148650     Roy I Tillery                     Custodian          0.00          0.00          0.00          0.00      0.00              0.00  2014    NaN  San Francisco     PT\\n148650  148651      Not provided                  Not provided  Not Provided  Not Provided  Not Provided  Not Provided      0.00              0.00  2014    NaN  San Francisco    NaN\\n148651  148652      Not provided                  Not provided  Not Provided  Not Provided  Not Provided  Not Provided      0.00              0.00  2014    NaN  San Francisco    NaN\\n148652  148653      Not provided                  Not provided  Not Provided  Not Provided  Not Provided  Not Provided      0.00              0.00  2014    NaN  San Francisco    NaN\\n148653  148654         Joe Lopez    Counselor, Log Cabin Ranch          0.00          0.00       -618.13          0.00   -618.13           -618.13  2014    NaN  San Francisco     PT'"
      ]
     },
     "execution_count": 22,
     "metadata": {},
     "output_type": "execute_result"
    }
   ],
   "source": [
    "# Check Last 10 Rows of The Dataset\n",
    "data.tail(10).to_string()"
   ]
  },
  {
   "cell_type": "code",
   "execution_count": 7,
   "metadata": {},
   "outputs": [
    {
     "name": "stdout",
     "output_type": "stream",
     "text": [
      "Shape of dataset (148654, 13)\n",
      "Number of row 148654\n",
      "Number of column 13\n"
     ]
    }
   ],
   "source": [
    "# Find Shape of Our Dataset (Number of Rows And Number of Columns)\n",
    "print(\"Shape of dataset\",data.shape)\n",
    "print(\"Number of row\",data.shape[0])\n",
    "print(\"Number of column\",data.shape[1])\n"
   ]
  },
  {
   "cell_type": "code",
   "execution_count": 23,
   "metadata": {},
   "outputs": [
    {
     "name": "stdout",
     "output_type": "stream",
     "text": [
      "<class 'pandas.core.frame.DataFrame'>\n",
      "RangeIndex: 148654 entries, 0 to 148653\n",
      "Data columns (total 13 columns):\n",
      " #   Column            Non-Null Count   Dtype  \n",
      "---  ------            --------------   -----  \n",
      " 0   Id                148654 non-null  int64  \n",
      " 1   EmployeeName      148654 non-null  object \n",
      " 2   JobTitle          148654 non-null  object \n",
      " 3   BasePay           148049 non-null  object \n",
      " 4   OvertimePay       148654 non-null  object \n",
      " 5   OtherPay          148654 non-null  object \n",
      " 6   Benefits          112495 non-null  object \n",
      " 7   TotalPay          148654 non-null  float64\n",
      " 8   TotalPayBenefits  148654 non-null  float64\n",
      " 9   Year              148654 non-null  int64  \n",
      " 10  Notes             0 non-null       float64\n",
      " 11  Agency            148654 non-null  object \n",
      " 12  Status            38119 non-null   object \n",
      "dtypes: float64(3), int64(2), object(8)\n",
      "memory usage: 14.7+ MB\n"
     ]
    }
   ],
   "source": [
    "# Getting Information About Our Dataset Like Total Number Rows, Total Number of Columns, Datatypes of Each Column \n",
    "# And Memory Requirement\n",
    "data.info()"
   ]
  },
  {
   "cell_type": "code",
   "execution_count": 24,
   "metadata": {},
   "outputs": [
    {
     "data": {
      "text/plain": [
       "Id                       0\n",
       "EmployeeName             0\n",
       "JobTitle                 0\n",
       "BasePay                605\n",
       "OvertimePay              0\n",
       "OtherPay                 0\n",
       "Benefits             36159\n",
       "TotalPay                 0\n",
       "TotalPayBenefits         0\n",
       "Year                     0\n",
       "Notes               148654\n",
       "Agency                   0\n",
       "Status              110535\n",
       "dtype: int64"
      ]
     },
     "execution_count": 24,
     "metadata": {},
     "output_type": "execute_result"
    }
   ],
   "source": [
    "# Check null values in the dataset\n",
    "data.isnull().sum()"
   ]
  },
  {
   "cell_type": "code",
   "execution_count": 17,
   "metadata": {},
   "outputs": [
    {
     "name": "stdout",
     "output_type": "stream",
     "text": [
      "EmployeeName            0\n",
      "JobTitle                0\n",
      "BasePay               605\n",
      "OvertimePay             0\n",
      "OtherPay                0\n",
      "Benefits            36159\n",
      "TotalPay                0\n",
      "TotalPayBenefits        0\n",
      "Year                    0\n",
      "dtype: int64\n"
     ]
    }
   ],
   "source": [
    "# Drop ID, Notes, Agency, and Status Columns\n",
    "data = data.drop(['Id','Notes','Agency','Status'],axis=1)\n",
    "data.head()"
   ]
  },
  {
   "cell_type": "code",
   "execution_count": 26,
   "metadata": {},
   "outputs": [
    {
     "data": {
      "text/html": [
       "<div>\n",
       "<style scoped>\n",
       "    .dataframe tbody tr th:only-of-type {\n",
       "        vertical-align: middle;\n",
       "    }\n",
       "\n",
       "    .dataframe tbody tr th {\n",
       "        vertical-align: top;\n",
       "    }\n",
       "\n",
       "    .dataframe thead th {\n",
       "        text-align: right;\n",
       "    }\n",
       "</style>\n",
       "<table border=\"1\" class=\"dataframe\">\n",
       "  <thead>\n",
       "    <tr style=\"text-align: right;\">\n",
       "      <th></th>\n",
       "      <th>Id</th>\n",
       "      <th>EmployeeName</th>\n",
       "      <th>JobTitle</th>\n",
       "      <th>BasePay</th>\n",
       "      <th>OvertimePay</th>\n",
       "      <th>OtherPay</th>\n",
       "      <th>Benefits</th>\n",
       "      <th>TotalPay</th>\n",
       "      <th>TotalPayBenefits</th>\n",
       "      <th>Year</th>\n",
       "      <th>Notes</th>\n",
       "      <th>Agency</th>\n",
       "      <th>Status</th>\n",
       "    </tr>\n",
       "  </thead>\n",
       "  <tbody>\n",
       "    <tr>\n",
       "      <th>count</th>\n",
       "      <td>148654.000000</td>\n",
       "      <td>148654</td>\n",
       "      <td>148654</td>\n",
       "      <td>148049.0</td>\n",
       "      <td>148654.0</td>\n",
       "      <td>148654.0</td>\n",
       "      <td>112495.0</td>\n",
       "      <td>148654.000000</td>\n",
       "      <td>148654.000000</td>\n",
       "      <td>148654.000000</td>\n",
       "      <td>0.0</td>\n",
       "      <td>148654</td>\n",
       "      <td>38119</td>\n",
       "    </tr>\n",
       "    <tr>\n",
       "      <th>unique</th>\n",
       "      <td>NaN</td>\n",
       "      <td>110811</td>\n",
       "      <td>2159</td>\n",
       "      <td>109900.0</td>\n",
       "      <td>66555.0</td>\n",
       "      <td>84968.0</td>\n",
       "      <td>99635.0</td>\n",
       "      <td>NaN</td>\n",
       "      <td>NaN</td>\n",
       "      <td>NaN</td>\n",
       "      <td>NaN</td>\n",
       "      <td>1</td>\n",
       "      <td>2</td>\n",
       "    </tr>\n",
       "    <tr>\n",
       "      <th>top</th>\n",
       "      <td>NaN</td>\n",
       "      <td>Kevin Lee</td>\n",
       "      <td>Transit Operator</td>\n",
       "      <td>0.0</td>\n",
       "      <td>0.0</td>\n",
       "      <td>0.0</td>\n",
       "      <td>0.0</td>\n",
       "      <td>NaN</td>\n",
       "      <td>NaN</td>\n",
       "      <td>NaN</td>\n",
       "      <td>NaN</td>\n",
       "      <td>San Francisco</td>\n",
       "      <td>FT</td>\n",
       "    </tr>\n",
       "    <tr>\n",
       "      <th>freq</th>\n",
       "      <td>NaN</td>\n",
       "      <td>13</td>\n",
       "      <td>7036</td>\n",
       "      <td>875.0</td>\n",
       "      <td>66103.0</td>\n",
       "      <td>35218.0</td>\n",
       "      <td>1053.0</td>\n",
       "      <td>NaN</td>\n",
       "      <td>NaN</td>\n",
       "      <td>NaN</td>\n",
       "      <td>NaN</td>\n",
       "      <td>148654</td>\n",
       "      <td>22334</td>\n",
       "    </tr>\n",
       "    <tr>\n",
       "      <th>mean</th>\n",
       "      <td>74327.500000</td>\n",
       "      <td>NaN</td>\n",
       "      <td>NaN</td>\n",
       "      <td>NaN</td>\n",
       "      <td>NaN</td>\n",
       "      <td>NaN</td>\n",
       "      <td>NaN</td>\n",
       "      <td>74768.321972</td>\n",
       "      <td>93692.554811</td>\n",
       "      <td>2012.522643</td>\n",
       "      <td>NaN</td>\n",
       "      <td>NaN</td>\n",
       "      <td>NaN</td>\n",
       "    </tr>\n",
       "    <tr>\n",
       "      <th>std</th>\n",
       "      <td>42912.857795</td>\n",
       "      <td>NaN</td>\n",
       "      <td>NaN</td>\n",
       "      <td>NaN</td>\n",
       "      <td>NaN</td>\n",
       "      <td>NaN</td>\n",
       "      <td>NaN</td>\n",
       "      <td>50517.005274</td>\n",
       "      <td>62793.533483</td>\n",
       "      <td>1.117538</td>\n",
       "      <td>NaN</td>\n",
       "      <td>NaN</td>\n",
       "      <td>NaN</td>\n",
       "    </tr>\n",
       "    <tr>\n",
       "      <th>min</th>\n",
       "      <td>1.000000</td>\n",
       "      <td>NaN</td>\n",
       "      <td>NaN</td>\n",
       "      <td>NaN</td>\n",
       "      <td>NaN</td>\n",
       "      <td>NaN</td>\n",
       "      <td>NaN</td>\n",
       "      <td>-618.130000</td>\n",
       "      <td>-618.130000</td>\n",
       "      <td>2011.000000</td>\n",
       "      <td>NaN</td>\n",
       "      <td>NaN</td>\n",
       "      <td>NaN</td>\n",
       "    </tr>\n",
       "    <tr>\n",
       "      <th>25%</th>\n",
       "      <td>37164.250000</td>\n",
       "      <td>NaN</td>\n",
       "      <td>NaN</td>\n",
       "      <td>NaN</td>\n",
       "      <td>NaN</td>\n",
       "      <td>NaN</td>\n",
       "      <td>NaN</td>\n",
       "      <td>36168.995000</td>\n",
       "      <td>44065.650000</td>\n",
       "      <td>2012.000000</td>\n",
       "      <td>NaN</td>\n",
       "      <td>NaN</td>\n",
       "      <td>NaN</td>\n",
       "    </tr>\n",
       "    <tr>\n",
       "      <th>50%</th>\n",
       "      <td>74327.500000</td>\n",
       "      <td>NaN</td>\n",
       "      <td>NaN</td>\n",
       "      <td>NaN</td>\n",
       "      <td>NaN</td>\n",
       "      <td>NaN</td>\n",
       "      <td>NaN</td>\n",
       "      <td>71426.610000</td>\n",
       "      <td>92404.090000</td>\n",
       "      <td>2013.000000</td>\n",
       "      <td>NaN</td>\n",
       "      <td>NaN</td>\n",
       "      <td>NaN</td>\n",
       "    </tr>\n",
       "    <tr>\n",
       "      <th>75%</th>\n",
       "      <td>111490.750000</td>\n",
       "      <td>NaN</td>\n",
       "      <td>NaN</td>\n",
       "      <td>NaN</td>\n",
       "      <td>NaN</td>\n",
       "      <td>NaN</td>\n",
       "      <td>NaN</td>\n",
       "      <td>105839.135000</td>\n",
       "      <td>132876.450000</td>\n",
       "      <td>2014.000000</td>\n",
       "      <td>NaN</td>\n",
       "      <td>NaN</td>\n",
       "      <td>NaN</td>\n",
       "    </tr>\n",
       "    <tr>\n",
       "      <th>max</th>\n",
       "      <td>148654.000000</td>\n",
       "      <td>NaN</td>\n",
       "      <td>NaN</td>\n",
       "      <td>NaN</td>\n",
       "      <td>NaN</td>\n",
       "      <td>NaN</td>\n",
       "      <td>NaN</td>\n",
       "      <td>567595.430000</td>\n",
       "      <td>567595.430000</td>\n",
       "      <td>2014.000000</td>\n",
       "      <td>NaN</td>\n",
       "      <td>NaN</td>\n",
       "      <td>NaN</td>\n",
       "    </tr>\n",
       "  </tbody>\n",
       "</table>\n",
       "</div>"
      ],
      "text/plain": [
       "                   Id EmployeeName          JobTitle   BasePay  OvertimePay  \\\n",
       "count   148654.000000       148654            148654  148049.0     148654.0   \n",
       "unique            NaN       110811              2159  109900.0      66555.0   \n",
       "top               NaN    Kevin Lee  Transit Operator       0.0          0.0   \n",
       "freq              NaN           13              7036     875.0      66103.0   \n",
       "mean     74327.500000          NaN               NaN       NaN          NaN   \n",
       "std      42912.857795          NaN               NaN       NaN          NaN   \n",
       "min          1.000000          NaN               NaN       NaN          NaN   \n",
       "25%      37164.250000          NaN               NaN       NaN          NaN   \n",
       "50%      74327.500000          NaN               NaN       NaN          NaN   \n",
       "75%     111490.750000          NaN               NaN       NaN          NaN   \n",
       "max     148654.000000          NaN               NaN       NaN          NaN   \n",
       "\n",
       "        OtherPay  Benefits       TotalPay  TotalPayBenefits           Year  \\\n",
       "count   148654.0  112495.0  148654.000000     148654.000000  148654.000000   \n",
       "unique   84968.0   99635.0            NaN               NaN            NaN   \n",
       "top          0.0       0.0            NaN               NaN            NaN   \n",
       "freq     35218.0    1053.0            NaN               NaN            NaN   \n",
       "mean         NaN       NaN   74768.321972      93692.554811    2012.522643   \n",
       "std          NaN       NaN   50517.005274      62793.533483       1.117538   \n",
       "min          NaN       NaN    -618.130000       -618.130000    2011.000000   \n",
       "25%          NaN       NaN   36168.995000      44065.650000    2012.000000   \n",
       "50%          NaN       NaN   71426.610000      92404.090000    2013.000000   \n",
       "75%          NaN       NaN  105839.135000     132876.450000    2014.000000   \n",
       "max          NaN       NaN  567595.430000     567595.430000    2014.000000   \n",
       "\n",
       "        Notes         Agency Status  \n",
       "count     0.0         148654  38119  \n",
       "unique    NaN              1      2  \n",
       "top       NaN  San Francisco     FT  \n",
       "freq      NaN         148654  22334  \n",
       "mean      NaN            NaN    NaN  \n",
       "std       NaN            NaN    NaN  \n",
       "min       NaN            NaN    NaN  \n",
       "25%       NaN            NaN    NaN  \n",
       "50%       NaN            NaN    NaN  \n",
       "75%       NaN            NaN    NaN  \n",
       "max       NaN            NaN    NaN  "
      ]
     },
     "execution_count": 26,
     "metadata": {},
     "output_type": "execute_result"
    }
   ],
   "source": [
    "# Get Overall Statistics About The Dataframe\n",
    "data.describe(include='all')"
   ]
  },
  {
   "cell_type": "code",
   "execution_count": 28,
   "metadata": {},
   "outputs": [
    {
     "data": {
      "text/plain": [
       "Kevin Lee       13\n",
       "Richard Lee     11\n",
       "Steven Lee      11\n",
       "William Wong    11\n",
       "Stanley Lee      9\n",
       "Name: EmployeeName, dtype: int64"
      ]
     },
     "execution_count": 28,
     "metadata": {},
     "output_type": "execute_result"
    }
   ],
   "source": [
    "# Find Occurrence of The Employee Names  (Top 5)\n",
    "data['EmployeeName'].value_counts().head()"
   ]
  },
  {
   "cell_type": "code",
   "execution_count": 29,
   "metadata": {},
   "outputs": [
    {
     "data": {
      "text/plain": [
       "2159"
      ]
     },
     "execution_count": 29,
     "metadata": {},
     "output_type": "execute_result"
    }
   ],
   "source": [
    "# Find The Number of Unique Job Titles\n",
    "data['JobTitle'].nunique()"
   ]
  },
  {
   "cell_type": "code",
   "execution_count": 32,
   "metadata": {},
   "outputs": [
    {
     "data": {
      "text/plain": [
       "141"
      ]
     },
     "execution_count": 32,
     "metadata": {},
     "output_type": "execute_result"
    }
   ],
   "source": [
    "# Total Number of Job Titles Contain Captain\n",
    "len(data[data['JobTitle'].str.contains('CAPTAIN')])"
   ]
  },
  {
   "cell_type": "code",
   "execution_count": 34,
   "metadata": {},
   "outputs": [
    {
     "data": {
      "text/plain": [
       "4            PATRICK GARDNER\n",
       "6                  ALSON LEE\n",
       "8             MICHAEL MORRIS\n",
       "9         JOANNE HAYES-WHITE\n",
       "10             ARTHUR KENNEY\n",
       "                 ...        \n",
       "145956      Kenneth C Farris\n",
       "147556         Edward A Dunn\n",
       "148021        Kari A Johnson\n",
       "148209          Sheryl K Lee\n",
       "148554       Lawrence F Gatt\n",
       "Name: EmployeeName, Length: 5879, dtype: object"
      ]
     },
     "execution_count": 34,
     "metadata": {},
     "output_type": "execute_result"
    }
   ],
   "source": [
    "# Display All the Employee Names From Fire Department\n",
    "data[data['JobTitle'].str.contains('fire',case=False)]['EmployeeName']"
   ]
  },
  {
   "cell_type": "code",
   "execution_count": 38,
   "metadata": {},
   "outputs": [
    {
     "data": {
      "text/plain": [
       "count     148049.0\n",
       "unique    109900.0\n",
       "top            0.0\n",
       "freq         875.0\n",
       "Name: BasePay, dtype: float64"
      ]
     },
     "execution_count": 38,
     "metadata": {},
     "output_type": "execute_result"
    }
   ],
   "source": [
    "# Find Minimum, Maximum, and Average BasePay\n",
    "data['BasePay'].describe()"
   ]
  },
  {
   "cell_type": "code",
   "execution_count": 42,
   "metadata": {},
   "outputs": [
    {
     "data": {
      "text/plain": [
       "0            NATHANIEL FORD\n",
       "1              GARY JIMENEZ\n",
       "2            ALBERT PARDINI\n",
       "3         CHRISTOPHER CHONG\n",
       "4           PATRICK GARDNER\n",
       "                ...        \n",
       "148649        Roy I Tillery\n",
       "148650                  NaN\n",
       "148651                  NaN\n",
       "148652                  NaN\n",
       "148653            Joe Lopez\n",
       "Name: EmployeeName, Length: 148654, dtype: object"
      ]
     },
     "execution_count": 42,
     "metadata": {},
     "output_type": "execute_result"
    }
   ],
   "source": [
    "# Replace 'Not Provided' in EmployeeName' Column to NaN \n",
    "data['EmployeeName'].replace(\"Not provided\",np.nan)"
   ]
  },
  {
   "cell_type": "code",
   "execution_count": 43,
   "metadata": {},
   "outputs": [
    {
     "data": {
      "text/html": [
       "<div>\n",
       "<style scoped>\n",
       "    .dataframe tbody tr th:only-of-type {\n",
       "        vertical-align: middle;\n",
       "    }\n",
       "\n",
       "    .dataframe tbody tr th {\n",
       "        vertical-align: top;\n",
       "    }\n",
       "\n",
       "    .dataframe thead th {\n",
       "        text-align: right;\n",
       "    }\n",
       "</style>\n",
       "<table border=\"1\" class=\"dataframe\">\n",
       "  <thead>\n",
       "    <tr style=\"text-align: right;\">\n",
       "      <th></th>\n",
       "      <th>Id</th>\n",
       "      <th>EmployeeName</th>\n",
       "      <th>JobTitle</th>\n",
       "      <th>BasePay</th>\n",
       "      <th>OvertimePay</th>\n",
       "      <th>OtherPay</th>\n",
       "      <th>Benefits</th>\n",
       "      <th>TotalPay</th>\n",
       "      <th>TotalPayBenefits</th>\n",
       "      <th>Year</th>\n",
       "      <th>Notes</th>\n",
       "      <th>Agency</th>\n",
       "      <th>Status</th>\n",
       "    </tr>\n",
       "  </thead>\n",
       "  <tbody>\n",
       "  </tbody>\n",
       "</table>\n",
       "</div>"
      ],
      "text/plain": [
       "Empty DataFrame\n",
       "Columns: [Id, EmployeeName, JobTitle, BasePay, OvertimePay, OtherPay, Benefits, TotalPay, TotalPayBenefits, Year, Notes, Agency, Status]\n",
       "Index: []"
      ]
     },
     "execution_count": 43,
     "metadata": {},
     "output_type": "execute_result"
    }
   ],
   "source": [
    "# Drop The Rows Having 5 Missing Values\n",
    "data[data.isnull().sum(axis=1)==5]"
   ]
  },
  {
   "cell_type": "code",
   "execution_count": 45,
   "metadata": {},
   "outputs": [
    {
     "data": {
      "text/plain": [
       "2    CAPTAIN III (POLICE DEPARTMENT)\n",
       "Name: JobTitle, dtype: object"
      ]
     },
     "execution_count": 45,
     "metadata": {},
     "output_type": "execute_result"
    }
   ],
   "source": [
    "# Find Job Title of ALBERT PARDINI\n",
    "data[data['EmployeeName']==\"ALBERT PARDINI\"]['JobTitle']"
   ]
  },
  {
   "cell_type": "code",
   "execution_count": 46,
   "metadata": {},
   "outputs": [
    {
     "data": {
      "text/plain": [
       "2    335279.91\n",
       "Name: TotalPayBenefits, dtype: float64"
      ]
     },
     "execution_count": 46,
     "metadata": {},
     "output_type": "execute_result"
    }
   ],
   "source": [
    "# How Much ALBERT PARDINI Make (Include Benefits)?\n",
    "data[data['EmployeeName']==\"ALBERT PARDINI\"]['TotalPayBenefits']"
   ]
  },
  {
   "cell_type": "code",
   "execution_count": 57,
   "metadata": {},
   "outputs": [
    {
     "data": {
      "text/html": [
       "<div>\n",
       "<style scoped>\n",
       "    .dataframe tbody tr th:only-of-type {\n",
       "        vertical-align: middle;\n",
       "    }\n",
       "\n",
       "    .dataframe tbody tr th {\n",
       "        vertical-align: top;\n",
       "    }\n",
       "\n",
       "    .dataframe thead th {\n",
       "        text-align: right;\n",
       "    }\n",
       "</style>\n",
       "<table border=\"1\" class=\"dataframe\">\n",
       "  <thead>\n",
       "    <tr style=\"text-align: right;\">\n",
       "      <th></th>\n",
       "      <th>Id</th>\n",
       "      <th>TotalPay</th>\n",
       "      <th>TotalPayBenefits</th>\n",
       "      <th>Notes</th>\n",
       "    </tr>\n",
       "    <tr>\n",
       "      <th>Year</th>\n",
       "      <th></th>\n",
       "      <th></th>\n",
       "      <th></th>\n",
       "      <th></th>\n",
       "    </tr>\n",
       "  </thead>\n",
       "  <tbody>\n",
       "    <tr>\n",
       "      <th>2011</th>\n",
       "      <td>18080.0</td>\n",
       "      <td>71744.103871</td>\n",
       "      <td>71744.103871</td>\n",
       "      <td>NaN</td>\n",
       "    </tr>\n",
       "    <tr>\n",
       "      <th>2012</th>\n",
       "      <td>54542.5</td>\n",
       "      <td>74113.262265</td>\n",
       "      <td>100553.229232</td>\n",
       "      <td>NaN</td>\n",
       "    </tr>\n",
       "    <tr>\n",
       "      <th>2013</th>\n",
       "      <td>91728.5</td>\n",
       "      <td>77611.443142</td>\n",
       "      <td>101440.519714</td>\n",
       "      <td>NaN</td>\n",
       "    </tr>\n",
       "    <tr>\n",
       "      <th>2014</th>\n",
       "      <td>129593.0</td>\n",
       "      <td>75463.918140</td>\n",
       "      <td>100250.918884</td>\n",
       "      <td>NaN</td>\n",
       "    </tr>\n",
       "  </tbody>\n",
       "</table>\n",
       "</div>"
      ],
      "text/plain": [
       "            Id      TotalPay  TotalPayBenefits  Notes\n",
       "Year                                                 \n",
       "2011   18080.0  71744.103871      71744.103871    NaN\n",
       "2012   54542.5  74113.262265     100553.229232    NaN\n",
       "2013   91728.5  77611.443142     101440.519714    NaN\n",
       "2014  129593.0  75463.918140     100250.918884    NaN"
      ]
     },
     "execution_count": 57,
     "metadata": {},
     "output_type": "execute_result"
    }
   ],
   "source": [
    "# Find Average of All Employee Per Year \n",
    "data.groupby('Year').mean()"
   ]
  },
  {
   "cell_type": "code",
   "execution_count": 58,
   "metadata": {},
   "outputs": [
    {
     "data": {
      "text/html": [
       "<div>\n",
       "<style scoped>\n",
       "    .dataframe tbody tr th:only-of-type {\n",
       "        vertical-align: middle;\n",
       "    }\n",
       "\n",
       "    .dataframe tbody tr th {\n",
       "        vertical-align: top;\n",
       "    }\n",
       "\n",
       "    .dataframe thead th {\n",
       "        text-align: right;\n",
       "    }\n",
       "</style>\n",
       "<table border=\"1\" class=\"dataframe\">\n",
       "  <thead>\n",
       "    <tr style=\"text-align: right;\">\n",
       "      <th></th>\n",
       "      <th>Id</th>\n",
       "      <th>TotalPay</th>\n",
       "      <th>TotalPayBenefits</th>\n",
       "      <th>Year</th>\n",
       "      <th>Notes</th>\n",
       "    </tr>\n",
       "    <tr>\n",
       "      <th>JobTitle</th>\n",
       "      <th></th>\n",
       "      <th></th>\n",
       "      <th></th>\n",
       "      <th></th>\n",
       "      <th></th>\n",
       "    </tr>\n",
       "  </thead>\n",
       "  <tbody>\n",
       "    <tr>\n",
       "      <th>ACCOUNT CLERK</th>\n",
       "      <td>25734.819277</td>\n",
       "      <td>44035.664337</td>\n",
       "      <td>44035.664337</td>\n",
       "      <td>2011.00</td>\n",
       "      <td>NaN</td>\n",
       "    </tr>\n",
       "    <tr>\n",
       "      <th>ACCOUNTANT</th>\n",
       "      <td>24159.200000</td>\n",
       "      <td>47429.268000</td>\n",
       "      <td>47429.268000</td>\n",
       "      <td>2011.00</td>\n",
       "      <td>NaN</td>\n",
       "    </tr>\n",
       "    <tr>\n",
       "      <th>ACCOUNTANT INTERN</th>\n",
       "      <td>28128.833333</td>\n",
       "      <td>29031.742917</td>\n",
       "      <td>29031.742917</td>\n",
       "      <td>2011.00</td>\n",
       "      <td>NaN</td>\n",
       "    </tr>\n",
       "    <tr>\n",
       "      <th>ACPO,JuvP, Juv Prob (SFERS)</th>\n",
       "      <td>135284.000000</td>\n",
       "      <td>62290.780000</td>\n",
       "      <td>80266.370000</td>\n",
       "      <td>2014.00</td>\n",
       "      <td>NaN</td>\n",
       "    </tr>\n",
       "    <tr>\n",
       "      <th>ACUPUNCTURIST</th>\n",
       "      <td>18379.000000</td>\n",
       "      <td>67594.400000</td>\n",
       "      <td>67594.400000</td>\n",
       "      <td>2011.00</td>\n",
       "      <td>NaN</td>\n",
       "    </tr>\n",
       "    <tr>\n",
       "      <th>...</th>\n",
       "      <td>...</td>\n",
       "      <td>...</td>\n",
       "      <td>...</td>\n",
       "      <td>...</td>\n",
       "      <td>...</td>\n",
       "    </tr>\n",
       "    <tr>\n",
       "      <th>X-RAY LABORATORY AIDE</th>\n",
       "      <td>22502.076923</td>\n",
       "      <td>52705.880385</td>\n",
       "      <td>52705.880385</td>\n",
       "      <td>2011.00</td>\n",
       "      <td>NaN</td>\n",
       "    </tr>\n",
       "    <tr>\n",
       "      <th>X-Ray Laboratory Aide</th>\n",
       "      <td>98890.620000</td>\n",
       "      <td>50823.942700</td>\n",
       "      <td>69521.123200</td>\n",
       "      <td>2013.04</td>\n",
       "      <td>NaN</td>\n",
       "    </tr>\n",
       "    <tr>\n",
       "      <th>YOUTH COMMISSION ADVISOR, BOARD OF SUPERVISORS</th>\n",
       "      <td>23392.000000</td>\n",
       "      <td>53632.870000</td>\n",
       "      <td>53632.870000</td>\n",
       "      <td>2011.00</td>\n",
       "      <td>NaN</td>\n",
       "    </tr>\n",
       "    <tr>\n",
       "      <th>Youth Comm Advisor</th>\n",
       "      <td>99677.750000</td>\n",
       "      <td>41414.307500</td>\n",
       "      <td>60118.550000</td>\n",
       "      <td>2013.00</td>\n",
       "      <td>NaN</td>\n",
       "    </tr>\n",
       "    <tr>\n",
       "      <th>ZOO CURATOR</th>\n",
       "      <td>18779.000000</td>\n",
       "      <td>66686.560000</td>\n",
       "      <td>66686.560000</td>\n",
       "      <td>2011.00</td>\n",
       "      <td>NaN</td>\n",
       "    </tr>\n",
       "  </tbody>\n",
       "</table>\n",
       "<p>2159 rows × 5 columns</p>\n",
       "</div>"
      ],
      "text/plain": [
       "                                                           Id      TotalPay  \\\n",
       "JobTitle                                                                      \n",
       "ACCOUNT CLERK                                    25734.819277  44035.664337   \n",
       "ACCOUNTANT                                       24159.200000  47429.268000   \n",
       "ACCOUNTANT INTERN                                28128.833333  29031.742917   \n",
       "ACPO,JuvP, Juv Prob (SFERS)                     135284.000000  62290.780000   \n",
       "ACUPUNCTURIST                                    18379.000000  67594.400000   \n",
       "...                                                       ...           ...   \n",
       "X-RAY LABORATORY AIDE                            22502.076923  52705.880385   \n",
       "X-Ray Laboratory Aide                            98890.620000  50823.942700   \n",
       "YOUTH COMMISSION ADVISOR, BOARD OF SUPERVISORS   23392.000000  53632.870000   \n",
       "Youth Comm Advisor                               99677.750000  41414.307500   \n",
       "ZOO CURATOR                                      18779.000000  66686.560000   \n",
       "\n",
       "                                                TotalPayBenefits     Year  \\\n",
       "JobTitle                                                                    \n",
       "ACCOUNT CLERK                                       44035.664337  2011.00   \n",
       "ACCOUNTANT                                          47429.268000  2011.00   \n",
       "ACCOUNTANT INTERN                                   29031.742917  2011.00   \n",
       "ACPO,JuvP, Juv Prob (SFERS)                         80266.370000  2014.00   \n",
       "ACUPUNCTURIST                                       67594.400000  2011.00   \n",
       "...                                                          ...      ...   \n",
       "X-RAY LABORATORY AIDE                               52705.880385  2011.00   \n",
       "X-Ray Laboratory Aide                               69521.123200  2013.04   \n",
       "YOUTH COMMISSION ADVISOR, BOARD OF SUPERVISORS      53632.870000  2011.00   \n",
       "Youth Comm Advisor                                  60118.550000  2013.00   \n",
       "ZOO CURATOR                                         66686.560000  2011.00   \n",
       "\n",
       "                                                Notes  \n",
       "JobTitle                                               \n",
       "ACCOUNT CLERK                                     NaN  \n",
       "ACCOUNTANT                                        NaN  \n",
       "ACCOUNTANT INTERN                                 NaN  \n",
       "ACPO,JuvP, Juv Prob (SFERS)                       NaN  \n",
       "ACUPUNCTURIST                                     NaN  \n",
       "...                                               ...  \n",
       "X-RAY LABORATORY AIDE                             NaN  \n",
       "X-Ray Laboratory Aide                             NaN  \n",
       "YOUTH COMMISSION ADVISOR, BOARD OF SUPERVISORS    NaN  \n",
       "Youth Comm Advisor                                NaN  \n",
       "ZOO CURATOR                                       NaN  \n",
       "\n",
       "[2159 rows x 5 columns]"
      ]
     },
     "execution_count": 58,
     "metadata": {},
     "output_type": "execute_result"
    }
   ],
   "source": [
    "# Find Average of All Employee Per JobTitle \n",
    "data.groupby('JobTitle').mean()"
   ]
  },
  {
   "cell_type": "code",
   "execution_count": 59,
   "metadata": {},
   "outputs": [
    {
     "name": "stderr",
     "output_type": "stream",
     "text": [
      "C:\\Users\\USER\\AppData\\Local\\Temp\\ipykernel_41852\\2801329582.py:2: FutureWarning: Dropping of nuisance columns in DataFrame reductions (with 'numeric_only=None') is deprecated; in a future version this will raise TypeError.  Select only valid columns before calling the reduction.\n",
      "  data[data['JobTitle']=='ACCOUNTANT'].mean()\n"
     ]
    },
    {
     "data": {
      "text/plain": [
       "Id                  24159.200\n",
       "BasePay             46643.172\n",
       "OvertimePay             0.000\n",
       "OtherPay              786.096\n",
       "Benefits                  NaN\n",
       "TotalPay            47429.268\n",
       "TotalPayBenefits    47429.268\n",
       "Year                 2011.000\n",
       "Notes                     NaN\n",
       "Status                    NaN\n",
       "dtype: float64"
      ]
     },
     "execution_count": 59,
     "metadata": {},
     "output_type": "execute_result"
    }
   ],
   "source": [
    "# Find Average of Employee Having Job Title ACCOUNTANT\n",
    "data[data['JobTitle']=='ACCOUNTANT'].mean()"
   ]
  },
  {
   "cell_type": "code",
   "execution_count": 61,
   "metadata": {},
   "outputs": [
    {
     "data": {
      "text/plain": [
       "Transit Operator                7036\n",
       "Special Nurse                   4389\n",
       "Registered Nurse                3736\n",
       "Public Svc Aide-Public Works    2518\n",
       "Police Officer 3                2421\n",
       "Name: JobTitle, dtype: int64"
      ]
     },
     "execution_count": 61,
     "metadata": {},
     "output_type": "execute_result"
    }
   ],
   "source": [
    "# Find Top 5 Most Common Jobs\n",
    "data['JobTitle'].value_counts().head()"
   ]
  }
 ],
 "metadata": {
  "kernelspec": {
   "display_name": "Python 3",
   "language": "python",
   "name": "python3"
  },
  "language_info": {
   "codemirror_mode": {
    "name": "ipython",
    "version": 3
   },
   "file_extension": ".py",
   "mimetype": "text/x-python",
   "name": "python",
   "nbconvert_exporter": "python",
   "pygments_lexer": "ipython3",
   "version": "3.10.2"
  },
  "orig_nbformat": 4
 },
 "nbformat": 4,
 "nbformat_minor": 2
}
